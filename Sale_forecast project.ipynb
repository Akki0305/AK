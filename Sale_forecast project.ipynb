{
 "cells": [
  {
   "cell_type": "code",
   "execution_count": 129,
   "id": "4802319a",
   "metadata": {},
   "outputs": [],
   "source": [
    "import pandas as pd\n",
    "import numpy as np\n",
    "import matplotlib.pyplot as plt\n",
    "%matplotlib inline"
   ]
  },
  {
   "cell_type": "code",
   "execution_count": 130,
   "id": "7d78b47d",
   "metadata": {},
   "outputs": [],
   "source": [
    "sales_forecast = pd.read_csv(\"C:/Users/Akshay's/Desktop/Sales Forecast/Sales_Forecast_Data.csv\")"
   ]
  },
  {
   "cell_type": "code",
   "execution_count": 131,
   "id": "c409aa47",
   "metadata": {},
   "outputs": [
    {
     "data": {
      "text/plain": [
       "(230152, 8)"
      ]
     },
     "execution_count": 131,
     "metadata": {},
     "output_type": "execute_result"
    }
   ],
   "source": [
    "sales_forecast.shape"
   ]
  },
  {
   "cell_type": "code",
   "execution_count": 132,
   "id": "6ff6ee06",
   "metadata": {},
   "outputs": [
    {
     "data": {
      "text/html": [
       "<div>\n",
       "<style scoped>\n",
       "    .dataframe tbody tr th:only-of-type {\n",
       "        vertical-align: middle;\n",
       "    }\n",
       "\n",
       "    .dataframe tbody tr th {\n",
       "        vertical-align: top;\n",
       "    }\n",
       "\n",
       "    .dataframe thead th {\n",
       "        text-align: right;\n",
       "    }\n",
       "</style>\n",
       "<table border=\"1\" class=\"dataframe\">\n",
       "  <thead>\n",
       "    <tr style=\"text-align: right;\">\n",
       "      <th></th>\n",
       "      <th>FIN_YEAR</th>\n",
       "      <th>MONTH</th>\n",
       "      <th>STATE</th>\n",
       "      <th>FG</th>\n",
       "      <th>DISTRICT</th>\n",
       "      <th>COMPANY</th>\n",
       "      <th>VALUE</th>\n",
       "      <th>Date</th>\n",
       "    </tr>\n",
       "  </thead>\n",
       "  <tbody>\n",
       "    <tr>\n",
       "      <th>0</th>\n",
       "      <td>2014-2015</td>\n",
       "      <td>Nov</td>\n",
       "      <td>Haryana</td>\n",
       "      <td>Insecticides</td>\n",
       "      <td>Rohtak</td>\n",
       "      <td>monous</td>\n",
       "      <td>675.00</td>\n",
       "      <td>2015</td>\n",
       "    </tr>\n",
       "    <tr>\n",
       "      <th>1</th>\n",
       "      <td>2014-2015</td>\n",
       "      <td>Nov</td>\n",
       "      <td>Haryana</td>\n",
       "      <td>Insecticides</td>\n",
       "      <td>Rewari</td>\n",
       "      <td>monous</td>\n",
       "      <td>73.71</td>\n",
       "      <td>2015</td>\n",
       "    </tr>\n",
       "    <tr>\n",
       "      <th>2</th>\n",
       "      <td>2014-2015</td>\n",
       "      <td>Nov</td>\n",
       "      <td>Haryana</td>\n",
       "      <td>Insecticides</td>\n",
       "      <td>Gurgaon</td>\n",
       "      <td>monous</td>\n",
       "      <td>405.00</td>\n",
       "      <td>2015</td>\n",
       "    </tr>\n",
       "    <tr>\n",
       "      <th>3</th>\n",
       "      <td>2014-2015</td>\n",
       "      <td>Nov</td>\n",
       "      <td>Haryana</td>\n",
       "      <td>Insecticides</td>\n",
       "      <td>Mewat</td>\n",
       "      <td>monous</td>\n",
       "      <td>1188.00</td>\n",
       "      <td>2015</td>\n",
       "    </tr>\n",
       "    <tr>\n",
       "      <th>4</th>\n",
       "      <td>2014-2015</td>\n",
       "      <td>Nov</td>\n",
       "      <td>Haryana</td>\n",
       "      <td>Insecticides</td>\n",
       "      <td>Palwal</td>\n",
       "      <td>monous</td>\n",
       "      <td>5188.59</td>\n",
       "      <td>2015</td>\n",
       "    </tr>\n",
       "  </tbody>\n",
       "</table>\n",
       "</div>"
      ],
      "text/plain": [
       "    FIN_YEAR MONTH    STATE            FG DISTRICT  COMPANY    VALUE  Date\n",
       "0  2014-2015   Nov  Haryana  Insecticides   Rohtak  monous    675.00  2015\n",
       "1  2014-2015   Nov  Haryana  Insecticides   Rewari  monous     73.71  2015\n",
       "2  2014-2015   Nov  Haryana  Insecticides  Gurgaon  monous    405.00  2015\n",
       "3  2014-2015   Nov  Haryana  Insecticides    Mewat  monous   1188.00  2015\n",
       "4  2014-2015   Nov  Haryana  Insecticides   Palwal  monous   5188.59  2015"
      ]
     },
     "execution_count": 132,
     "metadata": {},
     "output_type": "execute_result"
    }
   ],
   "source": [
    "sales_forecast.head()"
   ]
  },
  {
   "cell_type": "code",
   "execution_count": 133,
   "id": "abd3279f",
   "metadata": {},
   "outputs": [
    {
     "data": {
      "text/html": [
       "<div>\n",
       "<style scoped>\n",
       "    .dataframe tbody tr th:only-of-type {\n",
       "        vertical-align: middle;\n",
       "    }\n",
       "\n",
       "    .dataframe tbody tr th {\n",
       "        vertical-align: top;\n",
       "    }\n",
       "\n",
       "    .dataframe thead th {\n",
       "        text-align: right;\n",
       "    }\n",
       "</style>\n",
       "<table border=\"1\" class=\"dataframe\">\n",
       "  <thead>\n",
       "    <tr style=\"text-align: right;\">\n",
       "      <th></th>\n",
       "      <th>FIN_YEAR</th>\n",
       "      <th>MONTH</th>\n",
       "      <th>STATE</th>\n",
       "      <th>FG</th>\n",
       "      <th>DISTRICT</th>\n",
       "      <th>COMPANY</th>\n",
       "      <th>VALUE</th>\n",
       "      <th>Date</th>\n",
       "    </tr>\n",
       "  </thead>\n",
       "  <tbody>\n",
       "    <tr>\n",
       "      <th>230147</th>\n",
       "      <td>2016-2017</td>\n",
       "      <td>Dec</td>\n",
       "      <td>Uttar Pradesh</td>\n",
       "      <td>Bactericides</td>\n",
       "      <td>Etah</td>\n",
       "      <td>ABC Manufacturing</td>\n",
       "      <td>0.00</td>\n",
       "      <td>2017</td>\n",
       "    </tr>\n",
       "    <tr>\n",
       "      <th>230148</th>\n",
       "      <td>2016-2017</td>\n",
       "      <td>Dec</td>\n",
       "      <td>Uttar Pradesh</td>\n",
       "      <td>Bactericides</td>\n",
       "      <td>Bulandshahr</td>\n",
       "      <td>disescent</td>\n",
       "      <td>6.75</td>\n",
       "      <td>2017</td>\n",
       "    </tr>\n",
       "    <tr>\n",
       "      <th>230149</th>\n",
       "      <td>2016-2017</td>\n",
       "      <td>Dec</td>\n",
       "      <td>Uttar Pradesh</td>\n",
       "      <td>Bactericides</td>\n",
       "      <td>Lucknow</td>\n",
       "      <td>disescent</td>\n",
       "      <td>0.00</td>\n",
       "      <td>2017</td>\n",
       "    </tr>\n",
       "    <tr>\n",
       "      <th>230150</th>\n",
       "      <td>2016-2017</td>\n",
       "      <td>Dec</td>\n",
       "      <td>Uttar Pradesh</td>\n",
       "      <td>Bactericides</td>\n",
       "      <td>Basti</td>\n",
       "      <td>disescent</td>\n",
       "      <td>486.00</td>\n",
       "      <td>2017</td>\n",
       "    </tr>\n",
       "    <tr>\n",
       "      <th>230151</th>\n",
       "      <td>2016-2017</td>\n",
       "      <td>Jan</td>\n",
       "      <td>Uttar Pradesh</td>\n",
       "      <td>Bactericides</td>\n",
       "      <td>Basti</td>\n",
       "      <td>venible</td>\n",
       "      <td>0.00</td>\n",
       "      <td>2016</td>\n",
       "    </tr>\n",
       "  </tbody>\n",
       "</table>\n",
       "</div>"
      ],
      "text/plain": [
       "         FIN_YEAR MONTH          STATE            FG     DISTRICT  \\\n",
       "230147  2016-2017   Dec  Uttar Pradesh  Bactericides         Etah   \n",
       "230148  2016-2017   Dec  Uttar Pradesh  Bactericides  Bulandshahr   \n",
       "230149  2016-2017   Dec  Uttar Pradesh  Bactericides      Lucknow   \n",
       "230150  2016-2017   Dec  Uttar Pradesh  Bactericides        Basti   \n",
       "230151  2016-2017   Jan  Uttar Pradesh  Bactericides        Basti   \n",
       "\n",
       "                  COMPANY   VALUE  Date  \n",
       "230147  ABC Manufacturing    0.00  2017  \n",
       "230148         disescent     6.75  2017  \n",
       "230149         disescent     0.00  2017  \n",
       "230150         disescent   486.00  2017  \n",
       "230151           venible     0.00  2016  "
      ]
     },
     "execution_count": 133,
     "metadata": {},
     "output_type": "execute_result"
    }
   ],
   "source": [
    "sales_forecast.tail()"
   ]
  },
  {
   "cell_type": "code",
   "execution_count": 134,
   "id": "cab895b9",
   "metadata": {},
   "outputs": [
    {
     "name": "stdout",
     "output_type": "stream",
     "text": [
      "<class 'pandas.core.frame.DataFrame'>\n",
      "RangeIndex: 230152 entries, 0 to 230151\n",
      "Data columns (total 8 columns):\n",
      " #   Column    Non-Null Count   Dtype  \n",
      "---  ------    --------------   -----  \n",
      " 0   FIN_YEAR  230152 non-null  object \n",
      " 1   MONTH     230152 non-null  object \n",
      " 2   STATE     230152 non-null  object \n",
      " 3   FG        230152 non-null  object \n",
      " 4   DISTRICT  230152 non-null  object \n",
      " 5   COMPANY   230152 non-null  object \n",
      " 6   VALUE     230152 non-null  float64\n",
      " 7   Date      230152 non-null  int64  \n",
      "dtypes: float64(1), int64(1), object(6)\n",
      "memory usage: 14.0+ MB\n"
     ]
    }
   ],
   "source": [
    "sales_forecast.info()"
   ]
  },
  {
   "cell_type": "code",
   "execution_count": 135,
   "id": "e2907461",
   "metadata": {},
   "outputs": [],
   "source": [
    "sf_numeric = sales_forecast.select_dtypes(include=[np.number])"
   ]
  },
  {
   "cell_type": "code",
   "execution_count": 136,
   "id": "72be72dc",
   "metadata": {},
   "outputs": [
    {
     "data": {
      "text/html": [
       "<div>\n",
       "<style scoped>\n",
       "    .dataframe tbody tr th:only-of-type {\n",
       "        vertical-align: middle;\n",
       "    }\n",
       "\n",
       "    .dataframe tbody tr th {\n",
       "        vertical-align: top;\n",
       "    }\n",
       "\n",
       "    .dataframe thead th {\n",
       "        text-align: right;\n",
       "    }\n",
       "</style>\n",
       "<table border=\"1\" class=\"dataframe\">\n",
       "  <thead>\n",
       "    <tr style=\"text-align: right;\">\n",
       "      <th></th>\n",
       "      <th>VALUE</th>\n",
       "      <th>Date</th>\n",
       "    </tr>\n",
       "  </thead>\n",
       "  <tbody>\n",
       "    <tr>\n",
       "      <th>0</th>\n",
       "      <td>675.00</td>\n",
       "      <td>2015</td>\n",
       "    </tr>\n",
       "    <tr>\n",
       "      <th>1</th>\n",
       "      <td>73.71</td>\n",
       "      <td>2015</td>\n",
       "    </tr>\n",
       "    <tr>\n",
       "      <th>2</th>\n",
       "      <td>405.00</td>\n",
       "      <td>2015</td>\n",
       "    </tr>\n",
       "    <tr>\n",
       "      <th>3</th>\n",
       "      <td>1188.00</td>\n",
       "      <td>2015</td>\n",
       "    </tr>\n",
       "    <tr>\n",
       "      <th>4</th>\n",
       "      <td>5188.59</td>\n",
       "      <td>2015</td>\n",
       "    </tr>\n",
       "  </tbody>\n",
       "</table>\n",
       "</div>"
      ],
      "text/plain": [
       "     VALUE  Date\n",
       "0   675.00  2015\n",
       "1    73.71  2015\n",
       "2   405.00  2015\n",
       "3  1188.00  2015\n",
       "4  5188.59  2015"
      ]
     },
     "execution_count": 136,
     "metadata": {},
     "output_type": "execute_result"
    }
   ],
   "source": [
    "sf_numeric.head()"
   ]
  },
  {
   "cell_type": "code",
   "execution_count": 137,
   "id": "aa74ca8c",
   "metadata": {},
   "outputs": [
    {
     "data": {
      "text/plain": [
       "Index(['VALUE', 'Date'], dtype='object')"
      ]
     },
     "execution_count": 137,
     "metadata": {},
     "output_type": "execute_result"
    }
   ],
   "source": [
    "sf_numeric.columns"
   ]
  },
  {
   "cell_type": "code",
   "execution_count": 138,
   "id": "9a242a0f",
   "metadata": {},
   "outputs": [],
   "source": [
    "sf_objects = sales_forecast.select_dtypes(include=[np.object])"
   ]
  },
  {
   "cell_type": "code",
   "execution_count": 139,
   "id": "b5be91d2",
   "metadata": {},
   "outputs": [
    {
     "data": {
      "text/html": [
       "<div>\n",
       "<style scoped>\n",
       "    .dataframe tbody tr th:only-of-type {\n",
       "        vertical-align: middle;\n",
       "    }\n",
       "\n",
       "    .dataframe tbody tr th {\n",
       "        vertical-align: top;\n",
       "    }\n",
       "\n",
       "    .dataframe thead th {\n",
       "        text-align: right;\n",
       "    }\n",
       "</style>\n",
       "<table border=\"1\" class=\"dataframe\">\n",
       "  <thead>\n",
       "    <tr style=\"text-align: right;\">\n",
       "      <th></th>\n",
       "      <th>FIN_YEAR</th>\n",
       "      <th>MONTH</th>\n",
       "      <th>STATE</th>\n",
       "      <th>FG</th>\n",
       "      <th>DISTRICT</th>\n",
       "      <th>COMPANY</th>\n",
       "    </tr>\n",
       "  </thead>\n",
       "  <tbody>\n",
       "    <tr>\n",
       "      <th>0</th>\n",
       "      <td>2014-2015</td>\n",
       "      <td>Nov</td>\n",
       "      <td>Haryana</td>\n",
       "      <td>Insecticides</td>\n",
       "      <td>Rohtak</td>\n",
       "      <td>monous</td>\n",
       "    </tr>\n",
       "    <tr>\n",
       "      <th>1</th>\n",
       "      <td>2014-2015</td>\n",
       "      <td>Nov</td>\n",
       "      <td>Haryana</td>\n",
       "      <td>Insecticides</td>\n",
       "      <td>Rewari</td>\n",
       "      <td>monous</td>\n",
       "    </tr>\n",
       "    <tr>\n",
       "      <th>2</th>\n",
       "      <td>2014-2015</td>\n",
       "      <td>Nov</td>\n",
       "      <td>Haryana</td>\n",
       "      <td>Insecticides</td>\n",
       "      <td>Gurgaon</td>\n",
       "      <td>monous</td>\n",
       "    </tr>\n",
       "    <tr>\n",
       "      <th>3</th>\n",
       "      <td>2014-2015</td>\n",
       "      <td>Nov</td>\n",
       "      <td>Haryana</td>\n",
       "      <td>Insecticides</td>\n",
       "      <td>Mewat</td>\n",
       "      <td>monous</td>\n",
       "    </tr>\n",
       "    <tr>\n",
       "      <th>4</th>\n",
       "      <td>2014-2015</td>\n",
       "      <td>Nov</td>\n",
       "      <td>Haryana</td>\n",
       "      <td>Insecticides</td>\n",
       "      <td>Palwal</td>\n",
       "      <td>monous</td>\n",
       "    </tr>\n",
       "  </tbody>\n",
       "</table>\n",
       "</div>"
      ],
      "text/plain": [
       "    FIN_YEAR MONTH    STATE            FG DISTRICT  COMPANY\n",
       "0  2014-2015   Nov  Haryana  Insecticides   Rohtak  monous \n",
       "1  2014-2015   Nov  Haryana  Insecticides   Rewari  monous \n",
       "2  2014-2015   Nov  Haryana  Insecticides  Gurgaon  monous \n",
       "3  2014-2015   Nov  Haryana  Insecticides    Mewat  monous \n",
       "4  2014-2015   Nov  Haryana  Insecticides   Palwal  monous "
      ]
     },
     "execution_count": 139,
     "metadata": {},
     "output_type": "execute_result"
    }
   ],
   "source": [
    "sf_objects.head()"
   ]
  },
  {
   "cell_type": "code",
   "execution_count": 140,
   "id": "45707963",
   "metadata": {},
   "outputs": [
    {
     "data": {
      "text/plain": [
       "FIN_YEAR    0\n",
       "MONTH       0\n",
       "STATE       0\n",
       "FG          0\n",
       "DISTRICT    0\n",
       "COMPANY     0\n",
       "VALUE       0\n",
       "Date        0\n",
       "dtype: int64"
      ]
     },
     "execution_count": 140,
     "metadata": {},
     "output_type": "execute_result"
    }
   ],
   "source": [
    "sales_forecast.isnull().sum()"
   ]
  },
  {
   "cell_type": "code",
   "execution_count": 141,
   "id": "16076163",
   "metadata": {},
   "outputs": [
    {
     "data": {
      "text/html": [
       "<div>\n",
       "<style scoped>\n",
       "    .dataframe tbody tr th:only-of-type {\n",
       "        vertical-align: middle;\n",
       "    }\n",
       "\n",
       "    .dataframe tbody tr th {\n",
       "        vertical-align: top;\n",
       "    }\n",
       "\n",
       "    .dataframe thead th {\n",
       "        text-align: right;\n",
       "    }\n",
       "</style>\n",
       "<table border=\"1\" class=\"dataframe\">\n",
       "  <thead>\n",
       "    <tr style=\"text-align: right;\">\n",
       "      <th></th>\n",
       "      <th>FIN_YEAR</th>\n",
       "      <th>MONTH</th>\n",
       "      <th>STATE</th>\n",
       "      <th>FG</th>\n",
       "      <th>DISTRICT</th>\n",
       "      <th>COMPANY</th>\n",
       "      <th>VALUE</th>\n",
       "      <th>Date</th>\n",
       "    </tr>\n",
       "  </thead>\n",
       "  <tbody>\n",
       "    <tr>\n",
       "      <th>0</th>\n",
       "      <td>2014-2015</td>\n",
       "      <td>Nov</td>\n",
       "      <td>Haryana</td>\n",
       "      <td>Insecticides</td>\n",
       "      <td>Rohtak</td>\n",
       "      <td>monous</td>\n",
       "      <td>675.00</td>\n",
       "      <td>2015</td>\n",
       "    </tr>\n",
       "    <tr>\n",
       "      <th>1</th>\n",
       "      <td>2014-2015</td>\n",
       "      <td>Nov</td>\n",
       "      <td>Haryana</td>\n",
       "      <td>Insecticides</td>\n",
       "      <td>Rewari</td>\n",
       "      <td>monous</td>\n",
       "      <td>73.71</td>\n",
       "      <td>2015</td>\n",
       "    </tr>\n",
       "    <tr>\n",
       "      <th>2</th>\n",
       "      <td>2014-2015</td>\n",
       "      <td>Nov</td>\n",
       "      <td>Haryana</td>\n",
       "      <td>Insecticides</td>\n",
       "      <td>Gurgaon</td>\n",
       "      <td>monous</td>\n",
       "      <td>405.00</td>\n",
       "      <td>2015</td>\n",
       "    </tr>\n",
       "    <tr>\n",
       "      <th>3</th>\n",
       "      <td>2014-2015</td>\n",
       "      <td>Nov</td>\n",
       "      <td>Haryana</td>\n",
       "      <td>Insecticides</td>\n",
       "      <td>Mewat</td>\n",
       "      <td>monous</td>\n",
       "      <td>1188.00</td>\n",
       "      <td>2015</td>\n",
       "    </tr>\n",
       "    <tr>\n",
       "      <th>4</th>\n",
       "      <td>2014-2015</td>\n",
       "      <td>Nov</td>\n",
       "      <td>Haryana</td>\n",
       "      <td>Insecticides</td>\n",
       "      <td>Palwal</td>\n",
       "      <td>monous</td>\n",
       "      <td>5188.59</td>\n",
       "      <td>2015</td>\n",
       "    </tr>\n",
       "  </tbody>\n",
       "</table>\n",
       "</div>"
      ],
      "text/plain": [
       "    FIN_YEAR MONTH    STATE            FG DISTRICT  COMPANY    VALUE  Date\n",
       "0  2014-2015   Nov  Haryana  Insecticides   Rohtak  monous    675.00  2015\n",
       "1  2014-2015   Nov  Haryana  Insecticides   Rewari  monous     73.71  2015\n",
       "2  2014-2015   Nov  Haryana  Insecticides  Gurgaon  monous    405.00  2015\n",
       "3  2014-2015   Nov  Haryana  Insecticides    Mewat  monous   1188.00  2015\n",
       "4  2014-2015   Nov  Haryana  Insecticides   Palwal  monous   5188.59  2015"
      ]
     },
     "execution_count": 141,
     "metadata": {},
     "output_type": "execute_result"
    }
   ],
   "source": [
    "sales_forecast.head()"
   ]
  },
  {
   "cell_type": "code",
   "execution_count": 142,
   "id": "32cf5e2a",
   "metadata": {},
   "outputs": [
    {
     "data": {
      "text/html": [
       "<div>\n",
       "<style scoped>\n",
       "    .dataframe tbody tr th:only-of-type {\n",
       "        vertical-align: middle;\n",
       "    }\n",
       "\n",
       "    .dataframe tbody tr th {\n",
       "        vertical-align: top;\n",
       "    }\n",
       "\n",
       "    .dataframe thead th {\n",
       "        text-align: right;\n",
       "    }\n",
       "</style>\n",
       "<table border=\"1\" class=\"dataframe\">\n",
       "  <thead>\n",
       "    <tr style=\"text-align: right;\">\n",
       "      <th></th>\n",
       "      <th>VALUE</th>\n",
       "      <th>Date</th>\n",
       "    </tr>\n",
       "  </thead>\n",
       "  <tbody>\n",
       "    <tr>\n",
       "      <th>count</th>\n",
       "      <td>230152.000000</td>\n",
       "      <td>230152.000000</td>\n",
       "    </tr>\n",
       "    <tr>\n",
       "      <th>mean</th>\n",
       "      <td>704.973592</td>\n",
       "      <td>2016.303730</td>\n",
       "    </tr>\n",
       "    <tr>\n",
       "      <th>std</th>\n",
       "      <td>2261.623760</td>\n",
       "      <td>1.175872</td>\n",
       "    </tr>\n",
       "    <tr>\n",
       "      <th>min</th>\n",
       "      <td>0.000000</td>\n",
       "      <td>2014.000000</td>\n",
       "    </tr>\n",
       "    <tr>\n",
       "      <th>25%</th>\n",
       "      <td>0.000000</td>\n",
       "      <td>2015.000000</td>\n",
       "    </tr>\n",
       "    <tr>\n",
       "      <th>50%</th>\n",
       "      <td>0.000000</td>\n",
       "      <td>2016.000000</td>\n",
       "    </tr>\n",
       "    <tr>\n",
       "      <th>75%</th>\n",
       "      <td>269.865000</td>\n",
       "      <td>2017.000000</td>\n",
       "    </tr>\n",
       "    <tr>\n",
       "      <th>max</th>\n",
       "      <td>69828.750000</td>\n",
       "      <td>2018.000000</td>\n",
       "    </tr>\n",
       "  </tbody>\n",
       "</table>\n",
       "</div>"
      ],
      "text/plain": [
       "               VALUE           Date\n",
       "count  230152.000000  230152.000000\n",
       "mean      704.973592    2016.303730\n",
       "std      2261.623760       1.175872\n",
       "min         0.000000    2014.000000\n",
       "25%         0.000000    2015.000000\n",
       "50%         0.000000    2016.000000\n",
       "75%       269.865000    2017.000000\n",
       "max     69828.750000    2018.000000"
      ]
     },
     "execution_count": 142,
     "metadata": {},
     "output_type": "execute_result"
    }
   ],
   "source": [
    "sales_forecast.describe()"
   ]
  },
  {
   "cell_type": "code",
   "execution_count": 143,
   "id": "66d61bf1",
   "metadata": {},
   "outputs": [
    {
     "name": "stdout",
     "output_type": "stream",
     "text": [
      "<class 'pandas.core.frame.DataFrame'>\n",
      "RangeIndex: 230152 entries, 0 to 230151\n",
      "Data columns (total 8 columns):\n",
      " #   Column    Non-Null Count   Dtype  \n",
      "---  ------    --------------   -----  \n",
      " 0   FIN_YEAR  230152 non-null  object \n",
      " 1   MONTH     230152 non-null  object \n",
      " 2   STATE     230152 non-null  object \n",
      " 3   FG        230152 non-null  object \n",
      " 4   DISTRICT  230152 non-null  object \n",
      " 5   COMPANY   230152 non-null  object \n",
      " 6   VALUE     230152 non-null  float64\n",
      " 7   Date      230152 non-null  int64  \n",
      "dtypes: float64(1), int64(1), object(6)\n",
      "memory usage: 14.0+ MB\n"
     ]
    }
   ],
   "source": [
    "sales_forecast.info()"
   ]
  },
  {
   "cell_type": "code",
   "execution_count": 144,
   "id": "79e85e75",
   "metadata": {},
   "outputs": [
    {
     "data": {
      "text/html": [
       "<div>\n",
       "<style scoped>\n",
       "    .dataframe tbody tr th:only-of-type {\n",
       "        vertical-align: middle;\n",
       "    }\n",
       "\n",
       "    .dataframe tbody tr th {\n",
       "        vertical-align: top;\n",
       "    }\n",
       "\n",
       "    .dataframe thead th {\n",
       "        text-align: right;\n",
       "    }\n",
       "</style>\n",
       "<table border=\"1\" class=\"dataframe\">\n",
       "  <thead>\n",
       "    <tr style=\"text-align: right;\">\n",
       "      <th></th>\n",
       "      <th>FIN_YEAR</th>\n",
       "      <th>MONTH</th>\n",
       "      <th>STATE</th>\n",
       "      <th>FG</th>\n",
       "      <th>DISTRICT</th>\n",
       "      <th>COMPANY</th>\n",
       "      <th>VALUE</th>\n",
       "      <th>Date</th>\n",
       "    </tr>\n",
       "  </thead>\n",
       "  <tbody>\n",
       "    <tr>\n",
       "      <th>0</th>\n",
       "      <td>2014-2015</td>\n",
       "      <td>Nov</td>\n",
       "      <td>Haryana</td>\n",
       "      <td>Insecticides</td>\n",
       "      <td>Rohtak</td>\n",
       "      <td>monous</td>\n",
       "      <td>675.00</td>\n",
       "      <td>2015</td>\n",
       "    </tr>\n",
       "    <tr>\n",
       "      <th>168963</th>\n",
       "      <td>2014-2015</td>\n",
       "      <td>May</td>\n",
       "      <td>Punjab</td>\n",
       "      <td>Bactericides</td>\n",
       "      <td>Hoshiarpur</td>\n",
       "      <td>cynoid</td>\n",
       "      <td>641.25</td>\n",
       "      <td>2015</td>\n",
       "    </tr>\n",
       "    <tr>\n",
       "      <th>168964</th>\n",
       "      <td>2014-2015</td>\n",
       "      <td>May</td>\n",
       "      <td>Punjab</td>\n",
       "      <td>Bactericides</td>\n",
       "      <td>Fatehgarh Sahib</td>\n",
       "      <td>cynoid</td>\n",
       "      <td>141.75</td>\n",
       "      <td>2015</td>\n",
       "    </tr>\n",
       "    <tr>\n",
       "      <th>168965</th>\n",
       "      <td>2014-2015</td>\n",
       "      <td>Dec</td>\n",
       "      <td>Punjab</td>\n",
       "      <td>Bactericides</td>\n",
       "      <td>Mansa</td>\n",
       "      <td>agizu</td>\n",
       "      <td>0.00</td>\n",
       "      <td>2015</td>\n",
       "    </tr>\n",
       "    <tr>\n",
       "      <th>168966</th>\n",
       "      <td>2014-2015</td>\n",
       "      <td>Dec</td>\n",
       "      <td>Punjab</td>\n",
       "      <td>Bactericides</td>\n",
       "      <td>Patiala</td>\n",
       "      <td>agizu</td>\n",
       "      <td>0.00</td>\n",
       "      <td>2015</td>\n",
       "    </tr>\n",
       "    <tr>\n",
       "      <th>...</th>\n",
       "      <td>...</td>\n",
       "      <td>...</td>\n",
       "      <td>...</td>\n",
       "      <td>...</td>\n",
       "      <td>...</td>\n",
       "      <td>...</td>\n",
       "      <td>...</td>\n",
       "      <td>...</td>\n",
       "    </tr>\n",
       "    <tr>\n",
       "      <th>51590</th>\n",
       "      <td>2017-2018</td>\n",
       "      <td>Dec</td>\n",
       "      <td>Uttar Pradesh</td>\n",
       "      <td>Insecticides</td>\n",
       "      <td>Allahabad</td>\n",
       "      <td>cynoid</td>\n",
       "      <td>5821.20</td>\n",
       "      <td>2018</td>\n",
       "    </tr>\n",
       "    <tr>\n",
       "      <th>51589</th>\n",
       "      <td>2017-2018</td>\n",
       "      <td>Dec</td>\n",
       "      <td>Uttar Pradesh</td>\n",
       "      <td>Insecticides</td>\n",
       "      <td>Fatehpur</td>\n",
       "      <td>cynoid</td>\n",
       "      <td>1547.10</td>\n",
       "      <td>2018</td>\n",
       "    </tr>\n",
       "    <tr>\n",
       "      <th>51588</th>\n",
       "      <td>2017-2018</td>\n",
       "      <td>Dec</td>\n",
       "      <td>Uttar Pradesh</td>\n",
       "      <td>Insecticides</td>\n",
       "      <td>Chitrakoot</td>\n",
       "      <td>cynoid</td>\n",
       "      <td>162.00</td>\n",
       "      <td>2018</td>\n",
       "    </tr>\n",
       "    <tr>\n",
       "      <th>51562</th>\n",
       "      <td>2017-2018</td>\n",
       "      <td>Dec</td>\n",
       "      <td>Uttar Pradesh</td>\n",
       "      <td>Insecticides</td>\n",
       "      <td>Moradabad</td>\n",
       "      <td>cynoid</td>\n",
       "      <td>54.00</td>\n",
       "      <td>2018</td>\n",
       "    </tr>\n",
       "    <tr>\n",
       "      <th>115075</th>\n",
       "      <td>2017-2018</td>\n",
       "      <td>Nov</td>\n",
       "      <td>Uttar Pradesh</td>\n",
       "      <td>Herbicides</td>\n",
       "      <td>Ballia</td>\n",
       "      <td>venible</td>\n",
       "      <td>270.00</td>\n",
       "      <td>2018</td>\n",
       "    </tr>\n",
       "  </tbody>\n",
       "</table>\n",
       "<p>230152 rows × 8 columns</p>\n",
       "</div>"
      ],
      "text/plain": [
       "         FIN_YEAR MONTH          STATE            FG         DISTRICT  \\\n",
       "0       2014-2015   Nov        Haryana  Insecticides           Rohtak   \n",
       "168963  2014-2015   May         Punjab  Bactericides       Hoshiarpur   \n",
       "168964  2014-2015   May         Punjab  Bactericides  Fatehgarh Sahib   \n",
       "168965  2014-2015   Dec         Punjab  Bactericides            Mansa   \n",
       "168966  2014-2015   Dec         Punjab  Bactericides          Patiala   \n",
       "...           ...   ...            ...           ...              ...   \n",
       "51590   2017-2018   Dec  Uttar Pradesh  Insecticides        Allahabad   \n",
       "51589   2017-2018   Dec  Uttar Pradesh  Insecticides         Fatehpur   \n",
       "51588   2017-2018   Dec  Uttar Pradesh  Insecticides       Chitrakoot   \n",
       "51562   2017-2018   Dec  Uttar Pradesh  Insecticides        Moradabad   \n",
       "115075  2017-2018   Nov  Uttar Pradesh    Herbicides           Ballia   \n",
       "\n",
       "         COMPANY    VALUE  Date  \n",
       "0        monous    675.00  2015  \n",
       "168963   cynoid    641.25  2015  \n",
       "168964   cynoid    141.75  2015  \n",
       "168965    agizu      0.00  2015  \n",
       "168966    agizu      0.00  2015  \n",
       "...          ...      ...   ...  \n",
       "51590    cynoid   5821.20  2018  \n",
       "51589    cynoid   1547.10  2018  \n",
       "51588    cynoid    162.00  2018  \n",
       "51562    cynoid     54.00  2018  \n",
       "115075  venible    270.00  2018  \n",
       "\n",
       "[230152 rows x 8 columns]"
      ]
     },
     "execution_count": 144,
     "metadata": {},
     "output_type": "execute_result"
    }
   ],
   "source": [
    "sales_forecast.sort_values(\"FIN_YEAR\")"
   ]
  },
  {
   "cell_type": "code",
   "execution_count": 145,
   "id": "dd286560",
   "metadata": {},
   "outputs": [],
   "source": [
    "import warnings\n",
    "import itertools\n",
    "import numpy as np\n",
    "import matplotlib.pyplot as plt\n",
    "warnings.filterwarnings(\"ignore\")\n",
    "import pandas as pd\n",
    "import statsmodels.api as sm\n",
    "import matplotlib"
   ]
  },
  {
   "cell_type": "code",
   "execution_count": 146,
   "id": "66d4b024",
   "metadata": {},
   "outputs": [
    {
     "data": {
      "text/plain": [
       "Index(['FIN_YEAR', 'MONTH', 'STATE', 'FG', 'DISTRICT', 'COMPANY', 'VALUE',\n",
       "       'Date'],\n",
       "      dtype='object')"
      ]
     },
     "execution_count": 146,
     "metadata": {},
     "output_type": "execute_result"
    }
   ],
   "source": [
    "sales_forecast.columns"
   ]
  },
  {
   "cell_type": "code",
   "execution_count": 147,
   "id": "95c6f866",
   "metadata": {},
   "outputs": [],
   "source": [
    "col = [\"STATE\", \"FG\", \"DISTRICT\", \"COMPANY\"]\n",
    "sales_forecast.drop(col,axis=1,inplace=True)"
   ]
  },
  {
   "cell_type": "code",
   "execution_count": 148,
   "id": "acdd9a0a",
   "metadata": {},
   "outputs": [
    {
     "data": {
      "text/html": [
       "<div>\n",
       "<style scoped>\n",
       "    .dataframe tbody tr th:only-of-type {\n",
       "        vertical-align: middle;\n",
       "    }\n",
       "\n",
       "    .dataframe tbody tr th {\n",
       "        vertical-align: top;\n",
       "    }\n",
       "\n",
       "    .dataframe thead th {\n",
       "        text-align: right;\n",
       "    }\n",
       "</style>\n",
       "<table border=\"1\" class=\"dataframe\">\n",
       "  <thead>\n",
       "    <tr style=\"text-align: right;\">\n",
       "      <th></th>\n",
       "      <th>FIN_YEAR</th>\n",
       "      <th>MONTH</th>\n",
       "      <th>VALUE</th>\n",
       "      <th>Date</th>\n",
       "    </tr>\n",
       "  </thead>\n",
       "  <tbody>\n",
       "    <tr>\n",
       "      <th>0</th>\n",
       "      <td>2014-2015</td>\n",
       "      <td>Nov</td>\n",
       "      <td>675.00</td>\n",
       "      <td>2015</td>\n",
       "    </tr>\n",
       "    <tr>\n",
       "      <th>1</th>\n",
       "      <td>2014-2015</td>\n",
       "      <td>Nov</td>\n",
       "      <td>73.71</td>\n",
       "      <td>2015</td>\n",
       "    </tr>\n",
       "    <tr>\n",
       "      <th>2</th>\n",
       "      <td>2014-2015</td>\n",
       "      <td>Nov</td>\n",
       "      <td>405.00</td>\n",
       "      <td>2015</td>\n",
       "    </tr>\n",
       "    <tr>\n",
       "      <th>3</th>\n",
       "      <td>2014-2015</td>\n",
       "      <td>Nov</td>\n",
       "      <td>1188.00</td>\n",
       "      <td>2015</td>\n",
       "    </tr>\n",
       "    <tr>\n",
       "      <th>4</th>\n",
       "      <td>2014-2015</td>\n",
       "      <td>Nov</td>\n",
       "      <td>5188.59</td>\n",
       "      <td>2015</td>\n",
       "    </tr>\n",
       "  </tbody>\n",
       "</table>\n",
       "</div>"
      ],
      "text/plain": [
       "    FIN_YEAR MONTH    VALUE  Date\n",
       "0  2014-2015   Nov   675.00  2015\n",
       "1  2014-2015   Nov    73.71  2015\n",
       "2  2014-2015   Nov   405.00  2015\n",
       "3  2014-2015   Nov  1188.00  2015\n",
       "4  2014-2015   Nov  5188.59  2015"
      ]
     },
     "execution_count": 148,
     "metadata": {},
     "output_type": "execute_result"
    }
   ],
   "source": [
    "sales_forecast.head()"
   ]
  },
  {
   "cell_type": "code",
   "execution_count": 149,
   "id": "2478b873",
   "metadata": {},
   "outputs": [],
   "source": [
    "#sales_forecast[\"FIN_YEAR\"] = pd.to_datetime(sales_forecast[\"FIN_YEAR\"])"
   ]
  },
  {
   "cell_type": "code",
   "execution_count": 150,
   "id": "95813b52",
   "metadata": {},
   "outputs": [],
   "source": [
    "#sales_forecast[\"MONTH\"] = pd.to_datetime(sales_forecast[\"MONTH\"])"
   ]
  },
  {
   "cell_type": "code",
   "execution_count": 151,
   "id": "6c0a1f6d",
   "metadata": {},
   "outputs": [
    {
     "data": {
      "text/plain": [
       "pandas.core.frame.DataFrame"
      ]
     },
     "execution_count": 151,
     "metadata": {},
     "output_type": "execute_result"
    }
   ],
   "source": [
    "type(sales_forecast)"
   ]
  },
  {
   "cell_type": "code",
   "execution_count": 152,
   "id": "de132015",
   "metadata": {},
   "outputs": [
    {
     "data": {
      "text/html": [
       "<div>\n",
       "<style scoped>\n",
       "    .dataframe tbody tr th:only-of-type {\n",
       "        vertical-align: middle;\n",
       "    }\n",
       "\n",
       "    .dataframe tbody tr th {\n",
       "        vertical-align: top;\n",
       "    }\n",
       "\n",
       "    .dataframe thead th {\n",
       "        text-align: right;\n",
       "    }\n",
       "</style>\n",
       "<table border=\"1\" class=\"dataframe\">\n",
       "  <thead>\n",
       "    <tr style=\"text-align: right;\">\n",
       "      <th></th>\n",
       "      <th>FIN_YEAR</th>\n",
       "      <th>MONTH</th>\n",
       "      <th>VALUE</th>\n",
       "      <th>Date</th>\n",
       "    </tr>\n",
       "  </thead>\n",
       "  <tbody>\n",
       "    <tr>\n",
       "      <th>0</th>\n",
       "      <td>2014-2015</td>\n",
       "      <td>Nov</td>\n",
       "      <td>675.00</td>\n",
       "      <td>2015</td>\n",
       "    </tr>\n",
       "    <tr>\n",
       "      <th>1</th>\n",
       "      <td>2014-2015</td>\n",
       "      <td>Nov</td>\n",
       "      <td>73.71</td>\n",
       "      <td>2015</td>\n",
       "    </tr>\n",
       "    <tr>\n",
       "      <th>2</th>\n",
       "      <td>2014-2015</td>\n",
       "      <td>Nov</td>\n",
       "      <td>405.00</td>\n",
       "      <td>2015</td>\n",
       "    </tr>\n",
       "    <tr>\n",
       "      <th>3</th>\n",
       "      <td>2014-2015</td>\n",
       "      <td>Nov</td>\n",
       "      <td>1188.00</td>\n",
       "      <td>2015</td>\n",
       "    </tr>\n",
       "    <tr>\n",
       "      <th>4</th>\n",
       "      <td>2014-2015</td>\n",
       "      <td>Nov</td>\n",
       "      <td>5188.59</td>\n",
       "      <td>2015</td>\n",
       "    </tr>\n",
       "  </tbody>\n",
       "</table>\n",
       "</div>"
      ],
      "text/plain": [
       "    FIN_YEAR MONTH    VALUE  Date\n",
       "0  2014-2015   Nov   675.00  2015\n",
       "1  2014-2015   Nov    73.71  2015\n",
       "2  2014-2015   Nov   405.00  2015\n",
       "3  2014-2015   Nov  1188.00  2015\n",
       "4  2014-2015   Nov  5188.59  2015"
      ]
     },
     "execution_count": 152,
     "metadata": {},
     "output_type": "execute_result"
    }
   ],
   "source": [
    "sales_forecast.head()"
   ]
  },
  {
   "cell_type": "code",
   "execution_count": 153,
   "id": "4c42e357",
   "metadata": {},
   "outputs": [],
   "source": [
    "sales_forecast[\"Day\"] = 1"
   ]
  },
  {
   "cell_type": "code",
   "execution_count": 154,
   "id": "6af1d01a",
   "metadata": {},
   "outputs": [
    {
     "data": {
      "text/html": [
       "<div>\n",
       "<style scoped>\n",
       "    .dataframe tbody tr th:only-of-type {\n",
       "        vertical-align: middle;\n",
       "    }\n",
       "\n",
       "    .dataframe tbody tr th {\n",
       "        vertical-align: top;\n",
       "    }\n",
       "\n",
       "    .dataframe thead th {\n",
       "        text-align: right;\n",
       "    }\n",
       "</style>\n",
       "<table border=\"1\" class=\"dataframe\">\n",
       "  <thead>\n",
       "    <tr style=\"text-align: right;\">\n",
       "      <th></th>\n",
       "      <th>FIN_YEAR</th>\n",
       "      <th>MONTH</th>\n",
       "      <th>VALUE</th>\n",
       "      <th>Date</th>\n",
       "      <th>Day</th>\n",
       "    </tr>\n",
       "  </thead>\n",
       "  <tbody>\n",
       "    <tr>\n",
       "      <th>0</th>\n",
       "      <td>2014-2015</td>\n",
       "      <td>Nov</td>\n",
       "      <td>675.00</td>\n",
       "      <td>2015</td>\n",
       "      <td>1</td>\n",
       "    </tr>\n",
       "    <tr>\n",
       "      <th>1</th>\n",
       "      <td>2014-2015</td>\n",
       "      <td>Nov</td>\n",
       "      <td>73.71</td>\n",
       "      <td>2015</td>\n",
       "      <td>1</td>\n",
       "    </tr>\n",
       "    <tr>\n",
       "      <th>2</th>\n",
       "      <td>2014-2015</td>\n",
       "      <td>Nov</td>\n",
       "      <td>405.00</td>\n",
       "      <td>2015</td>\n",
       "      <td>1</td>\n",
       "    </tr>\n",
       "    <tr>\n",
       "      <th>3</th>\n",
       "      <td>2014-2015</td>\n",
       "      <td>Nov</td>\n",
       "      <td>1188.00</td>\n",
       "      <td>2015</td>\n",
       "      <td>1</td>\n",
       "    </tr>\n",
       "    <tr>\n",
       "      <th>4</th>\n",
       "      <td>2014-2015</td>\n",
       "      <td>Nov</td>\n",
       "      <td>5188.59</td>\n",
       "      <td>2015</td>\n",
       "      <td>1</td>\n",
       "    </tr>\n",
       "  </tbody>\n",
       "</table>\n",
       "</div>"
      ],
      "text/plain": [
       "    FIN_YEAR MONTH    VALUE  Date  Day\n",
       "0  2014-2015   Nov   675.00  2015    1\n",
       "1  2014-2015   Nov    73.71  2015    1\n",
       "2  2014-2015   Nov   405.00  2015    1\n",
       "3  2014-2015   Nov  1188.00  2015    1\n",
       "4  2014-2015   Nov  5188.59  2015    1"
      ]
     },
     "execution_count": 154,
     "metadata": {},
     "output_type": "execute_result"
    }
   ],
   "source": [
    "sales_forecast.head()"
   ]
  },
  {
   "cell_type": "code",
   "execution_count": 155,
   "id": "c974d0d4",
   "metadata": {},
   "outputs": [
    {
     "name": "stdout",
     "output_type": "stream",
     "text": [
      "         FIN_YEAR MONTH    VALUE  Date  Day   Full Date\n",
      "0       2014-2015   Nov   675.00  2015    1  1-Nov-2015\n",
      "1       2014-2015   Nov    73.71  2015    1  1-Nov-2015\n",
      "2       2014-2015   Nov   405.00  2015    1  1-Nov-2015\n",
      "3       2014-2015   Nov  1188.00  2015    1  1-Nov-2015\n",
      "4       2014-2015   Nov  5188.59  2015    1  1-Nov-2015\n",
      "...           ...   ...      ...   ...  ...         ...\n",
      "230147  2016-2017   Dec     0.00  2017    1  1-Dec-2017\n",
      "230148  2016-2017   Dec     6.75  2017    1  1-Dec-2017\n",
      "230149  2016-2017   Dec     0.00  2017    1  1-Dec-2017\n",
      "230150  2016-2017   Dec   486.00  2017    1  1-Dec-2017\n",
      "230151  2016-2017   Jan     0.00  2016    1  1-Jan-2016\n",
      "\n",
      "[230152 rows x 6 columns]\n"
     ]
    }
   ],
   "source": [
    "sales_forecast['Full Date'] = sales_forecast['Day'].map(str) + '-' + sales_forecast['MONTH'].map(str) + '-' + sales_forecast['Date'].map(str)\n",
    "print (sales_forecast)"
   ]
  },
  {
   "cell_type": "code",
   "execution_count": 156,
   "id": "a1a447d1",
   "metadata": {},
   "outputs": [
    {
     "data": {
      "text/html": [
       "<div>\n",
       "<style scoped>\n",
       "    .dataframe tbody tr th:only-of-type {\n",
       "        vertical-align: middle;\n",
       "    }\n",
       "\n",
       "    .dataframe tbody tr th {\n",
       "        vertical-align: top;\n",
       "    }\n",
       "\n",
       "    .dataframe thead th {\n",
       "        text-align: right;\n",
       "    }\n",
       "</style>\n",
       "<table border=\"1\" class=\"dataframe\">\n",
       "  <thead>\n",
       "    <tr style=\"text-align: right;\">\n",
       "      <th></th>\n",
       "      <th>FIN_YEAR</th>\n",
       "      <th>MONTH</th>\n",
       "      <th>VALUE</th>\n",
       "      <th>Date</th>\n",
       "      <th>Day</th>\n",
       "      <th>Full Date</th>\n",
       "    </tr>\n",
       "  </thead>\n",
       "  <tbody>\n",
       "    <tr>\n",
       "      <th>0</th>\n",
       "      <td>2014-2015</td>\n",
       "      <td>Nov</td>\n",
       "      <td>675.00</td>\n",
       "      <td>2015</td>\n",
       "      <td>1</td>\n",
       "      <td>1-Nov-2015</td>\n",
       "    </tr>\n",
       "    <tr>\n",
       "      <th>1</th>\n",
       "      <td>2014-2015</td>\n",
       "      <td>Nov</td>\n",
       "      <td>73.71</td>\n",
       "      <td>2015</td>\n",
       "      <td>1</td>\n",
       "      <td>1-Nov-2015</td>\n",
       "    </tr>\n",
       "    <tr>\n",
       "      <th>2</th>\n",
       "      <td>2014-2015</td>\n",
       "      <td>Nov</td>\n",
       "      <td>405.00</td>\n",
       "      <td>2015</td>\n",
       "      <td>1</td>\n",
       "      <td>1-Nov-2015</td>\n",
       "    </tr>\n",
       "    <tr>\n",
       "      <th>3</th>\n",
       "      <td>2014-2015</td>\n",
       "      <td>Nov</td>\n",
       "      <td>1188.00</td>\n",
       "      <td>2015</td>\n",
       "      <td>1</td>\n",
       "      <td>1-Nov-2015</td>\n",
       "    </tr>\n",
       "    <tr>\n",
       "      <th>4</th>\n",
       "      <td>2014-2015</td>\n",
       "      <td>Nov</td>\n",
       "      <td>5188.59</td>\n",
       "      <td>2015</td>\n",
       "      <td>1</td>\n",
       "      <td>1-Nov-2015</td>\n",
       "    </tr>\n",
       "    <tr>\n",
       "      <th>...</th>\n",
       "      <td>...</td>\n",
       "      <td>...</td>\n",
       "      <td>...</td>\n",
       "      <td>...</td>\n",
       "      <td>...</td>\n",
       "      <td>...</td>\n",
       "    </tr>\n",
       "    <tr>\n",
       "      <th>230147</th>\n",
       "      <td>2016-2017</td>\n",
       "      <td>Dec</td>\n",
       "      <td>0.00</td>\n",
       "      <td>2017</td>\n",
       "      <td>1</td>\n",
       "      <td>1-Dec-2017</td>\n",
       "    </tr>\n",
       "    <tr>\n",
       "      <th>230148</th>\n",
       "      <td>2016-2017</td>\n",
       "      <td>Dec</td>\n",
       "      <td>6.75</td>\n",
       "      <td>2017</td>\n",
       "      <td>1</td>\n",
       "      <td>1-Dec-2017</td>\n",
       "    </tr>\n",
       "    <tr>\n",
       "      <th>230149</th>\n",
       "      <td>2016-2017</td>\n",
       "      <td>Dec</td>\n",
       "      <td>0.00</td>\n",
       "      <td>2017</td>\n",
       "      <td>1</td>\n",
       "      <td>1-Dec-2017</td>\n",
       "    </tr>\n",
       "    <tr>\n",
       "      <th>230150</th>\n",
       "      <td>2016-2017</td>\n",
       "      <td>Dec</td>\n",
       "      <td>486.00</td>\n",
       "      <td>2017</td>\n",
       "      <td>1</td>\n",
       "      <td>1-Dec-2017</td>\n",
       "    </tr>\n",
       "    <tr>\n",
       "      <th>230151</th>\n",
       "      <td>2016-2017</td>\n",
       "      <td>Jan</td>\n",
       "      <td>0.00</td>\n",
       "      <td>2016</td>\n",
       "      <td>1</td>\n",
       "      <td>1-Jan-2016</td>\n",
       "    </tr>\n",
       "  </tbody>\n",
       "</table>\n",
       "<p>230152 rows × 6 columns</p>\n",
       "</div>"
      ],
      "text/plain": [
       "         FIN_YEAR MONTH    VALUE  Date  Day   Full Date\n",
       "0       2014-2015   Nov   675.00  2015    1  1-Nov-2015\n",
       "1       2014-2015   Nov    73.71  2015    1  1-Nov-2015\n",
       "2       2014-2015   Nov   405.00  2015    1  1-Nov-2015\n",
       "3       2014-2015   Nov  1188.00  2015    1  1-Nov-2015\n",
       "4       2014-2015   Nov  5188.59  2015    1  1-Nov-2015\n",
       "...           ...   ...      ...   ...  ...         ...\n",
       "230147  2016-2017   Dec     0.00  2017    1  1-Dec-2017\n",
       "230148  2016-2017   Dec     6.75  2017    1  1-Dec-2017\n",
       "230149  2016-2017   Dec     0.00  2017    1  1-Dec-2017\n",
       "230150  2016-2017   Dec   486.00  2017    1  1-Dec-2017\n",
       "230151  2016-2017   Jan     0.00  2016    1  1-Jan-2016\n",
       "\n",
       "[230152 rows x 6 columns]"
      ]
     },
     "execution_count": 156,
     "metadata": {},
     "output_type": "execute_result"
    }
   ],
   "source": [
    "sales_forecast"
   ]
  },
  {
   "cell_type": "code",
   "execution_count": 157,
   "id": "f08e7e31",
   "metadata": {},
   "outputs": [],
   "source": [
    "col2 = [\"FIN_YEAR\", \"MONTH\", \"Date\", \"Day\"]\n",
    "sales_forecast.drop(col2,axis=1,inplace=True)"
   ]
  },
  {
   "cell_type": "code",
   "execution_count": 158,
   "id": "c5117d11",
   "metadata": {},
   "outputs": [
    {
     "data": {
      "text/html": [
       "<div>\n",
       "<style scoped>\n",
       "    .dataframe tbody tr th:only-of-type {\n",
       "        vertical-align: middle;\n",
       "    }\n",
       "\n",
       "    .dataframe tbody tr th {\n",
       "        vertical-align: top;\n",
       "    }\n",
       "\n",
       "    .dataframe thead th {\n",
       "        text-align: right;\n",
       "    }\n",
       "</style>\n",
       "<table border=\"1\" class=\"dataframe\">\n",
       "  <thead>\n",
       "    <tr style=\"text-align: right;\">\n",
       "      <th></th>\n",
       "      <th>VALUE</th>\n",
       "      <th>Full Date</th>\n",
       "    </tr>\n",
       "  </thead>\n",
       "  <tbody>\n",
       "    <tr>\n",
       "      <th>0</th>\n",
       "      <td>675.00</td>\n",
       "      <td>1-Nov-2015</td>\n",
       "    </tr>\n",
       "    <tr>\n",
       "      <th>1</th>\n",
       "      <td>73.71</td>\n",
       "      <td>1-Nov-2015</td>\n",
       "    </tr>\n",
       "    <tr>\n",
       "      <th>2</th>\n",
       "      <td>405.00</td>\n",
       "      <td>1-Nov-2015</td>\n",
       "    </tr>\n",
       "    <tr>\n",
       "      <th>3</th>\n",
       "      <td>1188.00</td>\n",
       "      <td>1-Nov-2015</td>\n",
       "    </tr>\n",
       "    <tr>\n",
       "      <th>4</th>\n",
       "      <td>5188.59</td>\n",
       "      <td>1-Nov-2015</td>\n",
       "    </tr>\n",
       "    <tr>\n",
       "      <th>...</th>\n",
       "      <td>...</td>\n",
       "      <td>...</td>\n",
       "    </tr>\n",
       "    <tr>\n",
       "      <th>230147</th>\n",
       "      <td>0.00</td>\n",
       "      <td>1-Dec-2017</td>\n",
       "    </tr>\n",
       "    <tr>\n",
       "      <th>230148</th>\n",
       "      <td>6.75</td>\n",
       "      <td>1-Dec-2017</td>\n",
       "    </tr>\n",
       "    <tr>\n",
       "      <th>230149</th>\n",
       "      <td>0.00</td>\n",
       "      <td>1-Dec-2017</td>\n",
       "    </tr>\n",
       "    <tr>\n",
       "      <th>230150</th>\n",
       "      <td>486.00</td>\n",
       "      <td>1-Dec-2017</td>\n",
       "    </tr>\n",
       "    <tr>\n",
       "      <th>230151</th>\n",
       "      <td>0.00</td>\n",
       "      <td>1-Jan-2016</td>\n",
       "    </tr>\n",
       "  </tbody>\n",
       "</table>\n",
       "<p>230152 rows × 2 columns</p>\n",
       "</div>"
      ],
      "text/plain": [
       "          VALUE   Full Date\n",
       "0        675.00  1-Nov-2015\n",
       "1         73.71  1-Nov-2015\n",
       "2        405.00  1-Nov-2015\n",
       "3       1188.00  1-Nov-2015\n",
       "4       5188.59  1-Nov-2015\n",
       "...         ...         ...\n",
       "230147     0.00  1-Dec-2017\n",
       "230148     6.75  1-Dec-2017\n",
       "230149     0.00  1-Dec-2017\n",
       "230150   486.00  1-Dec-2017\n",
       "230151     0.00  1-Jan-2016\n",
       "\n",
       "[230152 rows x 2 columns]"
      ]
     },
     "execution_count": 158,
     "metadata": {},
     "output_type": "execute_result"
    }
   ],
   "source": [
    "sales_forecast"
   ]
  },
  {
   "cell_type": "code",
   "execution_count": 159,
   "id": "a0f02f06",
   "metadata": {},
   "outputs": [],
   "source": [
    "sales_forecast[\"Full Date\"] = pd.to_datetime(sales_forecast[\"Full Date\"])"
   ]
  },
  {
   "cell_type": "code",
   "execution_count": 160,
   "id": "d392741d",
   "metadata": {},
   "outputs": [
    {
     "name": "stdout",
     "output_type": "stream",
     "text": [
      "<class 'pandas.core.frame.DataFrame'>\n",
      "RangeIndex: 230152 entries, 0 to 230151\n",
      "Data columns (total 2 columns):\n",
      " #   Column     Non-Null Count   Dtype         \n",
      "---  ------     --------------   -----         \n",
      " 0   VALUE      230152 non-null  float64       \n",
      " 1   Full Date  230152 non-null  datetime64[ns]\n",
      "dtypes: datetime64[ns](1), float64(1)\n",
      "memory usage: 3.5 MB\n"
     ]
    }
   ],
   "source": [
    "sales_forecast.info()"
   ]
  },
  {
   "cell_type": "code",
   "execution_count": 161,
   "id": "c22a9710",
   "metadata": {},
   "outputs": [],
   "source": [
    "sales_forecast.set_index(\"Full Date\",inplace=True)"
   ]
  },
  {
   "cell_type": "code",
   "execution_count": 162,
   "id": "3593bbd2",
   "metadata": {
    "scrolled": true
   },
   "outputs": [
    {
     "data": {
      "text/html": [
       "<div>\n",
       "<style scoped>\n",
       "    .dataframe tbody tr th:only-of-type {\n",
       "        vertical-align: middle;\n",
       "    }\n",
       "\n",
       "    .dataframe tbody tr th {\n",
       "        vertical-align: top;\n",
       "    }\n",
       "\n",
       "    .dataframe thead th {\n",
       "        text-align: right;\n",
       "    }\n",
       "</style>\n",
       "<table border=\"1\" class=\"dataframe\">\n",
       "  <thead>\n",
       "    <tr style=\"text-align: right;\">\n",
       "      <th></th>\n",
       "      <th>VALUE</th>\n",
       "    </tr>\n",
       "    <tr>\n",
       "      <th>Full Date</th>\n",
       "      <th></th>\n",
       "    </tr>\n",
       "  </thead>\n",
       "  <tbody>\n",
       "    <tr>\n",
       "      <th>2015-11-01</th>\n",
       "      <td>675.00</td>\n",
       "    </tr>\n",
       "    <tr>\n",
       "      <th>2015-11-01</th>\n",
       "      <td>73.71</td>\n",
       "    </tr>\n",
       "    <tr>\n",
       "      <th>2015-11-01</th>\n",
       "      <td>405.00</td>\n",
       "    </tr>\n",
       "    <tr>\n",
       "      <th>2015-11-01</th>\n",
       "      <td>1188.00</td>\n",
       "    </tr>\n",
       "    <tr>\n",
       "      <th>2015-11-01</th>\n",
       "      <td>5188.59</td>\n",
       "    </tr>\n",
       "  </tbody>\n",
       "</table>\n",
       "</div>"
      ],
      "text/plain": [
       "              VALUE\n",
       "Full Date          \n",
       "2015-11-01   675.00\n",
       "2015-11-01    73.71\n",
       "2015-11-01   405.00\n",
       "2015-11-01  1188.00\n",
       "2015-11-01  5188.59"
      ]
     },
     "execution_count": 162,
     "metadata": {},
     "output_type": "execute_result"
    }
   ],
   "source": [
    "sales_forecast.head()"
   ]
  },
  {
   "cell_type": "code",
   "execution_count": 163,
   "id": "0fee4e63",
   "metadata": {},
   "outputs": [],
   "source": [
    "y = sales_forecast['VALUE'].resample('MS').mean()"
   ]
  },
  {
   "cell_type": "code",
   "execution_count": 164,
   "id": "13ee4f86",
   "metadata": {},
   "outputs": [
    {
     "data": {
      "text/plain": [
       "Full Date\n",
       "2017-01-01    652.105334\n",
       "2017-02-01           NaN\n",
       "2017-03-01           NaN\n",
       "2017-04-01    355.791063\n",
       "2017-05-01    476.931286\n",
       "2017-06-01    492.838684\n",
       "2017-07-01    453.569200\n",
       "2017-08-01    592.039497\n",
       "2017-09-01    594.368355\n",
       "2017-10-01    489.932882\n",
       "2017-11-01    654.851349\n",
       "2017-12-01    649.244133\n",
       "2018-01-01           NaN\n",
       "2018-02-01           NaN\n",
       "2018-03-01           NaN\n",
       "2018-04-01    361.794469\n",
       "2018-05-01    871.429709\n",
       "2018-06-01    786.902667\n",
       "2018-07-01    696.002452\n",
       "2018-08-01    747.575077\n",
       "2018-09-01    714.099694\n",
       "2018-10-01    798.493333\n",
       "2018-11-01    963.222576\n",
       "2018-12-01    889.552597\n",
       "Freq: MS, Name: VALUE, dtype: float64"
      ]
     },
     "execution_count": 164,
     "metadata": {},
     "output_type": "execute_result"
    }
   ],
   "source": [
    "y['2017':]"
   ]
  },
  {
   "cell_type": "code",
   "execution_count": 165,
   "id": "f1dd835a",
   "metadata": {},
   "outputs": [
    {
     "data": {
      "image/png": "[encoded data removed]",
      "text/plain": [
       "<Figure size 1008x504 with 1 Axes>"
      ]
     },
     "metadata": {
      "needs_background": "light"
     },
     "output_type": "display_data"
    }
   ],
   "source": [
    "y.plot(figsize = (14,7))\n",
    "plt.show()"
   ]
  },
  {
   "cell_type": "code",
   "execution_count": 171,
   "id": "96bf9d61",
   "metadata": {},
   "outputs": [],
   "source": [
    "y.fillna(y.mean(),inplace = True)"
   ]
  },
  {
   "cell_type": "code",
   "execution_count": 172,
   "id": "49eb4f45",
   "metadata": {},
   "outputs": [
    {
     "data": {
      "text/plain": [
       "Full Date\n",
       "2017-01-01    652.105334\n",
       "2017-02-01    713.760875\n",
       "2017-03-01    713.760875\n",
       "2017-04-01    355.791063\n",
       "2017-05-01    476.931286\n",
       "2017-06-01    492.838684\n",
       "2017-07-01    453.569200\n",
       "2017-08-01    592.039497\n",
       "2017-09-01    594.368355\n",
       "2017-10-01    489.932882\n",
       "2017-11-01    654.851349\n",
       "2017-12-01    649.244133\n",
       "2018-01-01    713.760875\n",
       "2018-02-01    713.760875\n",
       "2018-03-01    713.760875\n",
       "2018-04-01    361.794469\n",
       "2018-05-01    871.429709\n",
       "2018-06-01    786.902667\n",
       "2018-07-01    696.002452\n",
       "2018-08-01    747.575077\n",
       "2018-09-01    714.099694\n",
       "2018-10-01    798.493333\n",
       "2018-11-01    963.222576\n",
       "2018-12-01    889.552597\n",
       "Freq: MS, Name: VALUE, dtype: float64"
      ]
     },
     "execution_count": 172,
     "metadata": {},
     "output_type": "execute_result"
    }
   ],
   "source": [
    "y['2017':]"
   ]
  },
  {
   "cell_type": "code",
   "execution_count": 173,
   "id": "d51c0683",
   "metadata": {},
   "outputs": [
    {
     "data": {
      "image/png": "[encoded data removed]",
      "text/plain": [
       "<Figure size 1008x504 with 1 Axes>"
      ]
     },
     "metadata": {
      "needs_background": "light"
     },
     "output_type": "display_data"
    }
   ],
   "source": [
    "y.plot(figsize = (14,7))\n",
    "plt.show()"
   ]
  },
  {
   "cell_type": "markdown",
   "id": "d2809063",
   "metadata": {},
   "source": [
    "## Checking for Stationarity"
   ]
  },
  {
   "cell_type": "code",
   "execution_count": 174,
   "id": "ed478c18",
   "metadata": {},
   "outputs": [
    {
     "name": "stdout",
     "output_type": "stream",
     "text": [
      "p value: 0.000040\n"
     ]
    }
   ],
   "source": [
    "from pandas import Series\n",
    "from statsmodels.tsa.stattools import adfuller\n",
    "result = adfuller(y)\n",
    "print('p value: %f' % result[1])"
   ]
  },
  {
   "cell_type": "markdown",
   "id": "56c575f5",
   "metadata": {},
   "source": [
    "### Decomposition"
   ]
  },
  {
   "cell_type": "code",
   "execution_count": 176,
   "id": "9d57e699",
   "metadata": {},
   "outputs": [],
   "source": [
    "from statsmodels.tsa.seasonal import seasonal_decompose\n",
    "decomposition = seasonal_decompose(y)"
   ]
  },
  {
   "cell_type": "code",
   "execution_count": 188,
   "id": "e2a4010d",
   "metadata": {},
   "outputs": [
    {
     "data": {
      "image/png": "[encoded data removed]",
      "text/plain": [
       "<Figure size 432x288 with 1 Axes>"
      ]
     },
     "metadata": {
      "needs_background": "light"
     },
     "output_type": "display_data"
    },
    {
     "data": {
      "image/png": "[encoded data removed]",
      "text/plain": [
       "<Figure size 432x288 with 1 Axes>"
      ]
     },
     "metadata": {
      "needs_background": "light"
     },
     "output_type": "display_data"
    },
    {
     "data": {
      "image/png": "[encoded data removed]",
      "text/plain": [
       "<Figure size 432x288 with 1 Axes>"
      ]
     },
     "metadata": {
      "needs_background": "light"
     },
     "output_type": "display_data"
    },
    {
     "data": {
      "text/plain": [
       "<matplotlib.legend.Legend at 0x5b18f8940>"
      ]
     },
     "execution_count": 188,
     "metadata": {},
     "output_type": "execute_result"
    },
    {
     "data": {
      "image/png": "[encoded data removed]",
      "text/plain": [
       "<Figure size 432x288 with 1 Axes>"
      ]
     },
     "metadata": {
      "needs_background": "light"
     },
     "output_type": "display_data"
    }
   ],
   "source": [
    "    plt.plot(y,label = \"original\")\n",
    "    plt.legend(loc = \"best\")\n",
    "    trend = decomposition.trend\n",
    "    plt.show()\n",
    "    plt.plot(trend,label = \"Trend\")\n",
    "    plt.legend(loc = \"best\")\n",
    "    seasonal = decomposition.seasonal\n",
    "    plt.show()\n",
    "    plt.plot(seasonal,label = \"Seasonal\")\n",
    "    plt.legend(loc = \"best\")\n",
    "    residual = decomposition.resid\n",
    "    plt.show()\n",
    "    plt.plot(residual,label = \"Residual\")\n",
    "    plt.legend(loc = \"best\")"
   ]
  },
  {
   "cell_type": "markdown",
   "id": "d29fb2f3",
   "metadata": {},
   "source": [
    "# Forcasting\n",
    "## ARIMA"
   ]
  },
  {
   "cell_type": "code",
   "execution_count": 190,
   "id": "10b5e600",
   "metadata": {},
   "outputs": [
    {
     "name": "stdout",
     "output_type": "stream",
     "text": [
      "example of parameter combinations for seasonal ARIMA....\n",
      "SARIMAX:(0, 0, 1) x (0, 0, 1, 12)\n",
      "SARIMAX:(0, 1, 0) x (0, 1, 0, 12)\n"
     ]
    }
   ],
   "source": [
    "p = d = q = range(0,2)\n",
    "pdq = list(itertools.product(p,d,q))\n",
    "seasonal_pdq = [(x[0],x[1],x[2],12) for x in list(itertools.product(p,d,q))]\n",
    "print(\"example of parameter combinations for seasonal ARIMA....\")\n",
    "print('SARIMAX:{} x {}'.format(pdq[1],seasonal_pdq[1]))\n",
    "print('SARIMAX:{} x {}'.format(pdq[2],seasonal_pdq[2]))"
   ]
  },
  {
   "cell_type": "markdown",
   "id": "e31cc669",
   "metadata": {},
   "source": [
    "### parameter search using 'grid search'"
   ]
  },
  {
   "cell_type": "code",
   "execution_count": 191,
   "id": "5e95df80",
   "metadata": {},
   "outputs": [
    {
     "name": "stdout",
     "output_type": "stream",
     "text": [
      "ARIMA(0, 0, 0)X(0, 0, 0, 12)12 - AIC:946.8286847216837\n",
      "ARIMA(0, 0, 0)X(0, 0, 1, 12)12 - AIC:722.9321831564636\n",
      "ARIMA(0, 0, 0)X(0, 1, 0, 12)12 - AIC:640.516449913634\n",
      "ARIMA(0, 0, 0)X(0, 1, 1, 12)12 - AIC:1390.7972177979073\n",
      "ARIMA(0, 0, 0)X(1, 0, 0, 12)12 - AIC:654.839873771888\n",
      "ARIMA(0, 0, 0)X(1, 0, 1, 12)12 - AIC:621.0932818532227\n",
      "ARIMA(0, 0, 0)X(1, 1, 0, 12)12 - AIC:485.9187458500356\n",
      "ARIMA(0, 0, 0)X(1, 1, 1, 12)12 - AIC:1151.2486165774267\n",
      "ARIMA(0, 0, 1)X(0, 0, 0, 12)12 - AIC:872.3533938469121\n",
      "ARIMA(0, 0, 1)X(0, 0, 1, 12)12 - AIC:667.1349665756159\n",
      "ARIMA(0, 0, 1)X(0, 1, 0, 12)12 - AIC:612.1370563670081\n",
      "ARIMA(0, 0, 1)X(0, 1, 1, 12)12 - AIC:1285.8951852532693\n",
      "ARIMA(0, 0, 1)X(1, 0, 0, 12)12 - AIC:638.509525359086\n",
      "ARIMA(0, 0, 1)X(1, 0, 1, 12)12 - AIC:597.4007191296716\n",
      "ARIMA(0, 0, 1)X(1, 1, 0, 12)12 - AIC:475.7806601909229\n",
      "ARIMA(0, 0, 1)X(1, 1, 1, 12)12 - AIC:1299.195832382257\n",
      "ARIMA(0, 1, 0)X(0, 0, 0, 12)12 - AIC:753.4553810130141\n",
      "ARIMA(0, 1, 0)X(0, 0, 1, 12)12 - AIC:607.0511599865291\n",
      "ARIMA(0, 1, 0)X(0, 1, 0, 12)12 - AIC:616.614462602792\n",
      "ARIMA(0, 1, 0)X(0, 1, 1, 12)12 - AIC:1209.9842240339326\n",
      "ARIMA(0, 1, 0)X(1, 0, 0, 12)12 - AIC:616.631788043688\n",
      "ARIMA(0, 1, 0)X(1, 0, 1, 12)12 - AIC:601.6686721656112\n",
      "ARIMA(0, 1, 0)X(1, 1, 0, 12)12 - AIC:464.2154501540649\n",
      "ARIMA(0, 1, 0)X(1, 1, 1, 12)12 - AIC:1209.2184891470922\n",
      "ARIMA(0, 1, 1)X(0, 0, 0, 12)12 - AIC:728.9234067335872\n",
      "ARIMA(0, 1, 1)X(0, 0, 1, 12)12 - AIC:582.2248095389579\n",
      "ARIMA(0, 1, 1)X(0, 1, 0, 12)12 - AIC:601.7325270888518\n",
      "ARIMA(0, 1, 1)X(0, 1, 1, 12)12 - AIC:1206.783760950398\n",
      "ARIMA(0, 1, 1)X(1, 0, 0, 12)12 - AIC:611.0661981986555\n",
      "ARIMA(0, 1, 1)X(1, 0, 1, 12)12 - AIC:582.6557457581301\n",
      "ARIMA(0, 1, 1)X(1, 1, 0, 12)12 - AIC:463.7716940752854\n",
      "ARIMA(0, 1, 1)X(1, 1, 1, 12)12 - AIC:857.9826095873228\n",
      "ARIMA(1, 0, 0)X(0, 0, 0, 12)12 - AIC:767.473802060448\n",
      "ARIMA(1, 0, 0)X(0, 0, 1, 12)12 - AIC:620.8469680904926\n",
      "ARIMA(1, 0, 0)X(0, 1, 0, 12)12 - AIC:621.0919293114788\n",
      "ARIMA(1, 0, 0)X(0, 1, 1, 12)12 - AIC:1197.9018589904533\n",
      "ARIMA(1, 0, 0)X(1, 0, 0, 12)12 - AIC:617.8342481684905\n",
      "ARIMA(1, 0, 0)X(1, 0, 1, 12)12 - AIC:607.8773826195962\n",
      "ARIMA(1, 0, 0)X(1, 1, 0, 12)12 - AIC:457.94919815143703\n",
      "ARIMA(1, 0, 0)X(1, 1, 1, 12)12 - AIC:1282.7313329404672\n",
      "ARIMA(1, 0, 1)X(0, 0, 0, 12)12 - AIC:744.3836057052711\n",
      "ARIMA(1, 0, 1)X(0, 0, 1, 12)12 - AIC:602.2500052881684\n",
      "ARIMA(1, 0, 1)X(0, 1, 0, 12)12 - AIC:610.7820233465794\n",
      "ARIMA(1, 0, 1)X(0, 1, 1, 12)12 - AIC:1262.348586670465\n",
      "ARIMA(1, 0, 1)X(1, 0, 0, 12)12 - AIC:613.3181683601059\n",
      "ARIMA(1, 0, 1)X(1, 0, 1, 12)12 - AIC:599.8835469762204\n",
      "ARIMA(1, 0, 1)X(1, 1, 0, 12)12 - AIC:459.84714641833204\n",
      "ARIMA(1, 0, 1)X(1, 1, 1, 12)12 - AIC:1173.9552598585522\n",
      "ARIMA(1, 1, 0)X(0, 0, 0, 12)12 - AIC:747.9624937464224\n",
      "ARIMA(1, 1, 0)X(0, 0, 1, 12)12 - AIC:604.3612618059877\n",
      "ARIMA(1, 1, 0)X(0, 1, 0, 12)12 - AIC:617.3785159861482\n",
      "ARIMA(1, 1, 0)X(0, 1, 1, 12)12 - AIC:1213.2003436577745\n",
      "ARIMA(1, 1, 0)X(1, 0, 0, 12)12 - AIC:602.999909421475\n",
      "ARIMA(1, 1, 0)X(1, 0, 1, 12)12 - AIC:600.8075334289497\n",
      "ARIMA(1, 1, 0)X(1, 1, 0, 12)12 - AIC:452.909438677034\n",
      "ARIMA(1, 1, 0)X(1, 1, 1, 12)12 - AIC:1179.4291497906304\n",
      "ARIMA(1, 1, 1)X(0, 0, 0, 12)12 - AIC:727.9963377487068\n",
      "ARIMA(1, 1, 1)X(0, 0, 1, 12)12 - AIC:583.5151727714964\n",
      "ARIMA(1, 1, 1)X(0, 1, 0, 12)12 - AIC:599.6917191552583\n",
      "ARIMA(1, 1, 1)X(0, 1, 1, 12)12 - AIC:797.3989118251747\n",
      "ARIMA(1, 1, 1)X(1, 0, 0, 12)12 - AIC:599.3301708489481\n",
      "ARIMA(1, 1, 1)X(1, 0, 1, 12)12 - AIC:583.468827910387\n",
      "ARIMA(1, 1, 1)X(1, 1, 0, 12)12 - AIC:450.7911825231846\n",
      "ARIMA(1, 1, 1)X(1, 1, 1, 12)12 - AIC:943.5546104509621\n"
     ]
    }
   ],
   "source": [
    "from pylab import rcParams\n",
    "for param in pdq:\n",
    "    for param_seasonal in seasonal_pdq:\n",
    "        try:\n",
    "            mod = sm.tsa.statespace.SARIMAX(y,order = param,\n",
    "                                           seasonal_order = param_seasonal,enforce_stationarity = False,\n",
    "                                           enforce_invertibility = False)\n",
    "            results = mod.fit()\n",
    "            print('ARIMA{}X{}12 - AIC:{}'.format(param,param_seasonal,results.aic))\n",
    "        except:\n",
    "            continue"
   ]
  },
  {
   "cell_type": "code",
   "execution_count": null,
   "id": "f2582964",
   "metadata": {},
   "outputs": [],
   "source": [
    "#Fitting the ARIMA model\n",
    "#ARIMA(1, 1, 1)X(1, 1, 0, 12)12 - AIC:450.7911825231846\n",
    "#Auto regressive is 1"
   ]
  },
  {
   "cell_type": "code",
   "execution_count": 193,
   "id": "1f711a5c",
   "metadata": {},
   "outputs": [
    {
     "name": "stdout",
     "output_type": "stream",
     "text": [
      "==============================================================================\n",
      "                 coef    std err          z      P>|z|      [0.025      0.975]\n",
      "------------------------------------------------------------------------------\n",
      "ar.L1          0.6001      0.210      2.862      0.004       0.189       1.011\n",
      "ma.L1         -0.9997     22.777     -0.044      0.965     -45.642      43.643\n",
      "ar.S.L12      -0.4740      0.122     -3.884      0.000      -0.713      -0.235\n",
      "sigma2      2.194e+04      5e+05      0.044      0.965   -9.57e+05       1e+06\n",
      "==============================================================================\n"
     ]
    }
   ],
   "source": [
    "mod = sm.tsa.statespace.SARIMAX(y, order = (1,1,1), seasonal_order = (1,1,0,12))\n",
    "results = mod.fit()\n",
    "print(results.summary().tables[1])"
   ]
  },
  {
   "cell_type": "code",
   "execution_count": 194,
   "id": "e63095ea",
   "metadata": {},
   "outputs": [
    {
     "data": {
      "image/png": "[encoded data removed]",
      "text/plain": [
       "<Figure size 1008x504 with 4 Axes>"
      ]
     },
     "metadata": {
      "needs_background": "light"
     },
     "output_type": "display_data"
    }
   ],
   "source": [
    "results.plot_diagnostics(figsize = (14,7))\n",
    "plt.show()"
   ]
  },
  {
   "cell_type": "code",
   "execution_count": 197,
   "id": "beece47f",
   "metadata": {},
   "outputs": [
    {
     "data": {
      "image/png": "[encoded data removed]",
      "text/plain": [
       "<Figure size 1008x504 with 1 Axes>"
      ]
     },
     "metadata": {
      "needs_background": "light"
     },
     "output_type": "display_data"
    }
   ],
   "source": [
    "pred = results.get_prediction(start = pd.to_datetime(\"2017-01-01\"),dynamic = False)\n",
    "pred_ci = pred.conf_int()\n",
    "ax= y[\"2014\":].plot(label = \"Observed\")\n",
    "pred.predicted_mean.plot(ax = ax,label = \"One step ahead forecast\", figsize=(14,7))\n",
    "ax.fill_between(pred_ci.index,\n",
    "               pred_ci.iloc[:,0],\n",
    "               pred_ci.iloc[:,1], alpha = .2)\n",
    "\n",
    "ax.set_xlabel(\"Year\")\n",
    "ax.set_ylabel(\"Sales\")\n",
    "plt.legend()\n",
    "plt.show()"
   ]
  },
  {
   "cell_type": "code",
   "execution_count": 199,
   "id": "704ab860",
   "metadata": {},
   "outputs": [
    {
     "data": {
      "text/plain": [
       "160.51"
      ]
     },
     "execution_count": 199,
     "metadata": {},
     "output_type": "execute_result"
    }
   ],
   "source": [
    "#calculate RMSE(root mean square error)\n",
    "y_forecasting = pred.predicted_mean\n",
    "y_truth = y[\"2017-01-01\":]\n",
    "mse = ((y_forecasting-y_truth)**2).mean()\n",
    "rmse = round(np.sqrt(mse),2)\n",
    "rmse"
   ]
  },
  {
   "cell_type": "code",
   "execution_count": 200,
   "id": "d70551c1",
   "metadata": {},
   "outputs": [
    {
     "data": {
      "text/plain": [
       "25764.642886008034"
      ]
     },
     "execution_count": 200,
     "metadata": {},
     "output_type": "execute_result"
    }
   ],
   "source": [
    "mse"
   ]
  },
  {
   "cell_type": "code",
   "execution_count": 203,
   "id": "e727cf07",
   "metadata": {},
   "outputs": [
    {
     "name": "stdout",
     "output_type": "stream",
     "text": [
      "2019-01-01    762.617176\n",
      "2019-02-01    750.775962\n",
      "2019-03-01    726.131287\n",
      "2019-04-01    356.529926\n",
      "2019-05-01    673.130861\n",
      "2019-06-01    630.887273\n",
      "2019-07-01    561.265753\n",
      "2019-08-01    652.112848\n",
      "2019-09-01    634.458940\n",
      "2019-10-01    628.650712\n",
      "2019-11-01    793.055193\n",
      "2019-12-01    751.400488\n",
      "Freq: MS, Name: predicted_mean, dtype: float64             lower VALUE  upper VALUE\n",
      "2019-01-01   469.048743  1056.185609\n",
      "2019-02-01   405.013421  1096.538504\n",
      "2019-03-01   361.482120  1090.780454\n",
      "2019-04-01   -15.815649   728.875502\n",
      "2019-05-01   297.380624  1048.881098\n",
      "2019-06-01   253.517244  1008.257302\n",
      "2019-07-01   183.073881   939.457625\n",
      "2019-08-01   273.481462  1030.744235\n",
      "2019-09-01   255.583039  1013.334842\n",
      "2019-10-01   249.634973  1007.666451\n",
      "2019-11-01   413.958002  1172.152384\n",
      "2019-12-01   372.255288  1130.545689\n"
     ]
    },
    {
     "data": {
      "image/png": "[encoded data removed]",
      "text/plain": [
       "<Figure size 1008x504 with 1 Axes>"
      ]
     },
     "metadata": {
      "needs_background": "light"
     },
     "output_type": "display_data"
    }
   ],
   "source": [
    "pred_uc = results.get_forecast(steps = 12)\n",
    "pred_ci = pred_uc.conf_int()\n",
    "ax= y.plot(label = \"Observed\")\n",
    "pred_uc.predicted_mean.plot(ax = ax,label = \"forecast\", figsize=(14,7))\n",
    "ax.fill_between(pred_ci.index,\n",
    "               pred_ci.iloc[:,0],\n",
    "               pred_ci.iloc[:,1], alpha = .25)\n",
    "\n",
    "ax.set_xlabel(\"Year\")\n",
    "ax.set_ylabel(\"Sales\")\n",
    "print(pred_uc.predicted_mean,pred_ci)\n",
    "plt.legend()\n",
    "plt.show()"
   ]
  },
  {
   "cell_type": "code",
   "execution_count": null,
   "id": "9f931f1d",
   "metadata": {},
   "outputs": [],
   "source": []
  }
 ],
 "metadata": {
  "kernelspec": {
   "display_name": "Python 3 (ipykernel)",
   "language": "python",
   "name": "python3"
  },
  "language_info": {
   "codemirror_mode": {
    "name": "ipython",
    "version": 3
   },
   "file_extension": ".py",
   "mimetype": "text/x-python",
   "name": "python",
   "nbconvert_exporter": "python",
   "pygments_lexer": "ipython3",
   "version": "3.9.12"
  }
 },
 "nbformat": 4,
 "nbformat_minor": 5
}
